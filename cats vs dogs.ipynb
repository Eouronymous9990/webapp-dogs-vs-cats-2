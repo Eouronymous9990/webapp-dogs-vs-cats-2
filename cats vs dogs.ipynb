{
 "cells": [
  {
   "cell_type": "code",
   "execution_count": null,
   "metadata": {},
   "outputs": [],
   "source": []
  },
  {
   "cell_type": "code",
   "execution_count": 1,
   "metadata": {},
   "outputs": [],
   "source": [
    "import base64\n",
    "\n",
    "import streamlit as st\n",
    "from PIL import ImageOps, Image\n",
    "import numpy as np\n",
    "\n",
    "\n",
    "\n",
    "\n",
    "def classify(image, model, class_names):\n",
    "    \n",
    "    # convert image to (224, 224)\n",
    "    image = ImageOps.fit(image, (224, 224), Image.Resampling.LANCZOS)\n",
    "\n",
    "    # convert image to numpy array\n",
    "    image_array = np.asarray(image)\n",
    "\n",
    "    # normalize image\n",
    "    normalized_image_array = (image_array.astype(np.float32) / 127.5) - 1\n",
    "\n",
    "    # set model input\n",
    "    data = np.ndarray(shape=(1, 224, 224, 3), dtype=np.float32)\n",
    "    data[0] = normalized_image_array\n",
    "\n",
    "    # make prediction\n",
    "    prediction = model.predict(data)\n",
    "    index = np.argmax(prediction)\n",
    "    #index = 0 if prediction[0][0] > 0.95 else 1\n",
    "    class_name = class_names[index]\n",
    "    confidence_score = prediction[0][index]\n",
    "\n",
    "    return class_name, confidence_score"
   ]
  },
  {
   "cell_type": "code",
   "execution_count": 2,
   "metadata": {},
   "outputs": [
    {
     "name": "stderr",
     "output_type": "stream",
     "text": [
      "2024-01-18 23:33:23.660 \n",
      "  \u001b[33m\u001b[1mWarning:\u001b[0m to view this Streamlit app on a browser, run it with the following\n",
      "  command:\n",
      "\n",
      "    streamlit run c:\\ProgramData\\Anaconda3\\lib\\site-packages\\ipykernel_launcher.py [ARGUMENTS]\n",
      "2024-01-18 23:33:23.662 `label` got an empty value. This is discouraged for accessibility reasons and may be disallowed in the future by raising an exception. Please provide a non-empty label and hide it with label_visibility if needed.\n"
     ]
    },
    {
     "name": "stdout",
     "output_type": "stream",
     "text": [
      "WARNING:tensorflow:No training configuration found in the save file, so the model was *not* compiled. Compile it manually.\n"
     ]
    }
   ],
   "source": [
    "import streamlit as st\n",
    "from keras.models import load_model\n",
    "from PIL import Image\n",
    "#import numpy as np\n",
    "#import os\n",
    "#os.chdir(r\"D:\\Data YOLOv8\")\n",
    "\n",
    "\n",
    "# set title\n",
    "st.title('Weather classification')\n",
    "\n",
    "# set header\n",
    "st.header('Please upload a weather image')\n",
    "\n",
    "# upload file\n",
    "file = st.file_uploader('', type=['jpeg', 'jpg', 'png'])\n",
    "\n",
    "# load classifier\n",
    "model = load_model(r\"C:\\Users\\zbook 17 g3\\Downloads\\New folder\\keras_model.h5\")\n",
    "\n",
    "# load class names\n",
    "with open(r\"C:\\Users\\zbook 17 g3\\Downloads\\New folder\\labels.txt\", 'r') as f:\n",
    "    class_names = [a[:-1].split(' ')[1] for a in f.readlines()]\n",
    "    f.close()\n",
    "\n",
    "# display image\n",
    "if file is not None:\n",
    "    image = Image.open(file).convert('RGB')\n",
    "    st.image(image, use_column_width=True)\n",
    "\n",
    "    # classify image\n",
    "    class_name, conf_score = classify(image, model, class_names)\n",
    "\n",
    "    # write classification\n",
    "    st.write(\"## {}\".format(class_name))\n",
    "    st.write(\"### score: {}%\".format(int(conf_score * 100) / 100))"
   ]
  },
  {
   "cell_type": "code",
   "execution_count": null,
   "metadata": {},
   "outputs": [],
   "source": []
  },
  {
   "cell_type": "code",
   "execution_count": 9,
   "metadata": {},
   "outputs": [
    {
     "name": "stdout",
     "output_type": "stream",
     "text": [
      "Name: tensorflow"
     ]
    },
    {
     "name": "stderr",
     "output_type": "stream",
     "text": [
      "WARNING: Ignoring invalid distribution -pencv-python (c:\\users\\zbook 17 g3\\appdata\\roaming\\python\\python39\\site-packages)\n",
      "WARNING: Ignoring invalid distribution -orch (c:\\users\\zbook 17 g3\\appdata\\roaming\\python\\python39\\site-packages)\n",
      "WARNING: Ignoring invalid distribution -ensorflow-intel (c:\\users\\zbook 17 g3\\appdata\\roaming\\python\\python39\\site-packages)\n"
     ]
    },
    {
     "name": "stdout",
     "output_type": "stream",
     "text": [
      "\n",
      "Version: 2.14.0\n",
      "Summary: TensorFlow is an open source machine learning framework for everyone.\n",
      "Home-page: https://www.tensorflow.org/\n",
      "Author: Google Inc.\n",
      "Author-email: packages@tensorflow.org\n",
      "License: Apache 2.0\n",
      "Location: c:\\programdata\\anaconda3\\lib\\site-packages\n",
      "Requires: tensorflow-intel\n",
      "Required-by: \n"
     ]
    }
   ],
   "source": [
    "!pip show tensorflow"
   ]
  },
  {
   "cell_type": "code",
   "execution_count": null,
   "metadata": {},
   "outputs": [],
   "source": []
  },
  {
   "cell_type": "code",
   "execution_count": null,
   "metadata": {},
   "outputs": [],
   "source": []
  },
  {
   "cell_type": "code",
   "execution_count": 5,
   "metadata": {},
   "outputs": [
    {
     "name": "stderr",
     "output_type": "stream",
     "text": [
      "WARNING: Ignoring invalid distribution -pencv-python (c:\\users\\zbook 17 g3\\appdata\\roaming\\python\\python39\\site-packages)\n",
      "WARNING: Ignoring invalid distribution -orch (c:\\users\\zbook 17 g3\\appdata\\roaming\\python\\python39\\site-packages)\n",
      "WARNING: Ignoring invalid distribution -ensorflow-intel (c:\\users\\zbook 17 g3\\appdata\\roaming\\python\\python39\\site-packages)\n",
      "WARNING: Package(s) not found: PIL\n"
     ]
    }
   ],
   "source": [
    "!pip show PIL"
   ]
  },
  {
   "cell_type": "code",
   "execution_count": null,
   "metadata": {},
   "outputs": [],
   "source": []
  },
  {
   "cell_type": "code",
   "execution_count": null,
   "metadata": {},
   "outputs": [],
   "source": []
  },
  {
   "cell_type": "code",
   "execution_count": null,
   "metadata": {},
   "outputs": [],
   "source": []
  },
  {
   "cell_type": "code",
   "execution_count": null,
   "metadata": {},
   "outputs": [],
   "source": []
  }
 ],
 "metadata": {
  "kernelspec": {
   "display_name": "base",
   "language": "python",
   "name": "python3"
  },
  "language_info": {
   "codemirror_mode": {
    "name": "ipython",
    "version": 3
   },
   "file_extension": ".py",
   "mimetype": "text/x-python",
   "name": "python",
   "nbconvert_exporter": "python",
   "pygments_lexer": "ipython3",
   "version": "3.9.13"
  },
  "orig_nbformat": 4
 },
 "nbformat": 4,
 "nbformat_minor": 2
}
